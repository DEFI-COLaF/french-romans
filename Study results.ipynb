{
 "cells": [
  {
   "cell_type": "code",
   "execution_count": 12,
   "id": "f997523d-d275-470a-87f9-4bb941d6e5d7",
   "metadata": {},
   "outputs": [],
   "source": [
    "import glob\n",
    "from tools.compress import load\n",
    "\n",
    "data = []\n",
    "\n",
    "for file in glob.glob(\"./results-*.json\"):\n",
    "    try:\n",
    "        d = load(file)\n",
    "    except Exception:\n",
    "        continue\n",
    "    for experiment in d:\n",
    "        data.append({\n",
    "            \"full-100\": experiment[\"probas\"].count(1.0)/len(experiment[\"probas\"]),\n",
    "            \"gap\": experiment[\"gap\"],\n",
    "            \"year\": experiment[\"date\"]\n",
    "        })\n"
   ]
  },
  {
   "cell_type": "code",
   "execution_count": 13,
   "id": "62749fa7-c8b6-442e-aabb-8a8e782d3e99",
   "metadata": {},
   "outputs": [
    {
     "data": {
      "text/html": [
       "<div>\n",
       "<style scoped>\n",
       "    .dataframe tbody tr th:only-of-type {\n",
       "        vertical-align: middle;\n",
       "    }\n",
       "\n",
       "    .dataframe tbody tr th {\n",
       "        vertical-align: top;\n",
       "    }\n",
       "\n",
       "    .dataframe thead th {\n",
       "        text-align: right;\n",
       "    }\n",
       "</style>\n",
       "<table border=\"1\" class=\"dataframe\">\n",
       "  <thead>\n",
       "    <tr style=\"text-align: right;\">\n",
       "      <th></th>\n",
       "      <th>full-100</th>\n",
       "      <th>gap</th>\n",
       "      <th>year</th>\n",
       "    </tr>\n",
       "  </thead>\n",
       "  <tbody>\n",
       "  </tbody>\n",
       "</table>\n",
       "</div>"
      ],
      "text/plain": [
       "Empty DataFrame\n",
       "Columns: [full-100, gap, year]\n",
       "Index: []"
      ]
     },
     "execution_count": 13,
     "metadata": {},
     "output_type": "execute_result"
    }
   ],
   "source": [
    "import pandas as pd\n",
    "\n",
    "df = pd.DataFrame(data)\n",
    "df[df[\"full-100\"] < 1.0]"
   ]
  }
 ],
 "metadata": {
  "kernelspec": {
   "display_name": "Python 3 (ipykernel)",
   "language": "python",
   "name": "python3"
  },
  "language_info": {
   "codemirror_mode": {
    "name": "ipython",
    "version": 3
   },
   "file_extension": ".py",
   "mimetype": "text/x-python",
   "name": "python",
   "nbconvert_exporter": "python",
   "pygments_lexer": "ipython3",
   "version": "3.12.3"
  }
 },
 "nbformat": 4,
 "nbformat_minor": 5
}
